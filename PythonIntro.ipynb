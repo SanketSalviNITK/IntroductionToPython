{
  "nbformat": 4,
  "nbformat_minor": 0,
  "metadata": {
    "colab": {
      "provenance": [],
      "authorship_tag": "ABX9TyOuNcAZVr1mkxskt7aOZoXi",
      "include_colab_link": true
    },
    "kernelspec": {
      "name": "python3",
      "display_name": "Python 3"
    },
    "language_info": {
      "name": "python"
    }
  },
  "cells": [
    {
      "cell_type": "markdown",
      "metadata": {
        "id": "view-in-github",
        "colab_type": "text"
      },
      "source": [
        "<a href=\"https://colab.research.google.com/github/SanketSalviNITK/IntroductionToPython/blob/main/PythonIntro.ipynb\" target=\"_parent\"><img src=\"https://colab.research.google.com/assets/colab-badge.svg\" alt=\"Open In Colab\"/></a>"
      ]
    },
    {
      "cell_type": "code",
      "execution_count": null,
      "metadata": {
        "colab": {
          "base_uri": "https://localhost:8080/"
        },
        "id": "z_A0nsB4_EFq",
        "outputId": "ea2aaf91-6592-496b-d130-ba35a7e90555"
      },
      "outputs": [
        {
          "output_type": "stream",
          "name": "stdout",
          "text": [
            "Hello World\n",
            "Hello World\n",
            "Hello World\n"
          ]
        }
      ],
      "source": [
        "#introduction to python\n",
        "# print statements\n",
        "print(\"Hello World\")\n",
        "print(\"Hello \"+\"World\")\n",
        "print('Hello ''World')"
      ]
    },
    {
      "cell_type": "code",
      "source": [
        "#example of dynamic typecasting\n",
        "a=10\n",
        "print(type(a))\n",
        "b=\"Hello\"\n",
        "print(type(b))\n",
        "c=2.15\n",
        "print(type(c))"
      ],
      "metadata": {
        "colab": {
          "base_uri": "https://localhost:8080/"
        },
        "id": "YwOo-v7n_U12",
        "outputId": "87e3ede1-c815-4dd8-c2dc-cb3005f07068"
      },
      "execution_count": null,
      "outputs": [
        {
          "output_type": "stream",
          "name": "stdout",
          "text": [
            "<class 'int'>\n",
            "<class 'str'>\n",
            "<class 'float'>\n"
          ]
        }
      ]
    },
    {
      "cell_type": "code",
      "source": [
        "#example of typecasting/wrapper class\n",
        "a=10.5\n",
        "print(a)\n",
        "print(type(a))\n",
        "a=int(a)\n",
        "print(a)\n",
        "print(type(a))"
      ],
      "metadata": {
        "colab": {
          "base_uri": "https://localhost:8080/"
        },
        "id": "nqm7m_Yt_rld",
        "outputId": "18c30cf3-adee-4746-94a4-1a26b730f104"
      },
      "execution_count": null,
      "outputs": [
        {
          "output_type": "stream",
          "name": "stdout",
          "text": [
            "10.5\n",
            "<class 'float'>\n",
            "10\n",
            "<class 'int'>\n"
          ]
        }
      ]
    },
    {
      "cell_type": "code",
      "source": [
        "#print with variable\n",
        "print(\"The number is\",a, \"And second string\")\n",
        "print(\"The number is \"+str(a)+\" And second string\")"
      ],
      "metadata": {
        "colab": {
          "base_uri": "https://localhost:8080/"
        },
        "id": "nEkN66wBAA-w",
        "outputId": "580a10af-de98-4583-e657-9b8a50c6ce61"
      },
      "execution_count": null,
      "outputs": [
        {
          "output_type": "stream",
          "name": "stdout",
          "text": [
            "The number is 10 And second string\n",
            "The number is 10 And second string\n"
          ]
        }
      ]
    },
    {
      "cell_type": "code",
      "source": [
        "#other print parameters\n",
        "print(\"Hello\",end=\" \")\n",
        "print(\"World\")\n",
        "\n",
        "print(\"Hello\",end=\"@\")\n",
        "print(\"World\")"
      ],
      "metadata": {
        "colab": {
          "base_uri": "https://localhost:8080/"
        },
        "id": "Y5CxVdIvAQsD",
        "outputId": "849e2e43-4d89-4c0f-fb3f-c6c41a6d8272"
      },
      "execution_count": null,
      "outputs": [
        {
          "output_type": "stream",
          "name": "stdout",
          "text": [
            "Hello World\n",
            "Hello@World\n"
          ]
        }
      ]
    },
    {
      "cell_type": "code",
      "source": [
        "#example to take input from users\n",
        "a=input()\n",
        "print(a)\n",
        "print(type(a)) #default datatype is string\n",
        "\n",
        "a=int(input()) #typecasted\n",
        "print(a)\n",
        "print(type(a))\n",
        "\n",
        "a=int(input(\"Enter a number:\")) #input and prompt in same line\n",
        "print(a)\n",
        "print(type(a))"
      ],
      "metadata": {
        "colab": {
          "base_uri": "https://localhost:8080/"
        },
        "id": "KKT-TljnA03n",
        "outputId": "7804b4b8-1b58-4a27-9e53-4a060992c88b"
      },
      "execution_count": null,
      "outputs": [
        {
          "output_type": "stream",
          "name": "stdout",
          "text": [
            "20\n",
            "20\n",
            "<class 'str'>\n",
            "20\n",
            "20\n",
            "<class 'int'>\n",
            "Enter a number:20\n",
            "20\n",
            "<class 'int'>\n"
          ]
        }
      ]
    },
    {
      "cell_type": "code",
      "source": [
        "#selection statement\n",
        "a=int(input(\"Enter a number:\"))\n",
        "if a==10:\n",
        "  print(\"Awesome\")\n",
        "elif a==5:\n",
        "  print(\"Great\")\n",
        "else:\n",
        "  print(\"Good\")\n"
      ],
      "metadata": {
        "colab": {
          "base_uri": "https://localhost:8080/"
        },
        "id": "6JXiP3SuBR2W",
        "outputId": "cf2baf43-39d4-48f2-ead9-75704afb1c94"
      },
      "execution_count": null,
      "outputs": [
        {
          "output_type": "stream",
          "name": "stdout",
          "text": [
            "Enter a number:10\n",
            "Awesome\n"
          ]
        }
      ]
    },
    {
      "cell_type": "code",
      "source": [
        "#loop control statements\n",
        "#example of while loop\n",
        "count=0\n",
        "while count<5:\n",
        "  print(count)\n",
        "  count=count+1"
      ],
      "metadata": {
        "id": "6cfm5a2GClYj",
        "colab": {
          "base_uri": "https://localhost:8080/"
        },
        "outputId": "c38cccbf-3e35-476c-a5a9-b56299a019e0"
      },
      "execution_count": null,
      "outputs": [
        {
          "output_type": "stream",
          "name": "stdout",
          "text": [
            "0\n",
            "1\n",
            "2\n",
            "3\n",
            "4\n"
          ]
        }
      ]
    },
    {
      "cell_type": "code",
      "source": [
        "#example of for loop with range function\n",
        "for x in range(5):\n",
        "  print(x)"
      ],
      "metadata": {
        "colab": {
          "base_uri": "https://localhost:8080/"
        },
        "id": "pHmNf6EkWeGQ",
        "outputId": "9daca68d-b726-48d6-fef2-d627640a5fea"
      },
      "execution_count": null,
      "outputs": [
        {
          "output_type": "stream",
          "name": "stdout",
          "text": [
            "0\n",
            "1\n",
            "2\n",
            "3\n",
            "4\n"
          ]
        }
      ]
    },
    {
      "cell_type": "code",
      "source": [
        "#example of for loop on string\n",
        "s=\"Hello World\"\n",
        "for x in s:\n",
        "  print(x)"
      ],
      "metadata": {
        "colab": {
          "base_uri": "https://localhost:8080/"
        },
        "id": "SlzOn_qaWs8h",
        "outputId": "e86a6c77-69b7-4e5c-f5e2-6aa98ba8092c"
      },
      "execution_count": null,
      "outputs": [
        {
          "output_type": "stream",
          "name": "stdout",
          "text": [
            "H\n",
            "e\n",
            "l\n",
            "l\n",
            "o\n",
            " \n",
            "W\n",
            "o\n",
            "r\n",
            "l\n",
            "d\n"
          ]
        }
      ]
    },
    {
      "cell_type": "code",
      "source": [
        "#example of for loop with list\n",
        "l=[\"Apple\",\"PineApple\",\"CustardApple\",\"WoodApple\"]\n",
        "for x in l:\n",
        "  print(x)"
      ],
      "metadata": {
        "colab": {
          "base_uri": "https://localhost:8080/"
        },
        "id": "kkoJ_m4wW5OR",
        "outputId": "eb99240e-9568-419c-af04-c9d8160dfbf5"
      },
      "execution_count": null,
      "outputs": [
        {
          "output_type": "stream",
          "name": "stdout",
          "text": [
            "Apple\n",
            "PineApple\n",
            "CustardApple\n",
            "WoodApple\n"
          ]
        }
      ]
    },
    {
      "cell_type": "code",
      "source": [
        "#example of for loop control using break\n",
        "for x in range(10):\n",
        "  if x==5:\n",
        "    break\n",
        "  print(x)\n"
      ],
      "metadata": {
        "colab": {
          "base_uri": "https://localhost:8080/"
        },
        "id": "zktza1ISXJ0h",
        "outputId": "6f59ae9b-bb4a-4256-b16a-ac0b8ca9ec85"
      },
      "execution_count": null,
      "outputs": [
        {
          "output_type": "stream",
          "name": "stdout",
          "text": [
            "0\n",
            "1\n",
            "2\n",
            "3\n",
            "4\n"
          ]
        }
      ]
    },
    {
      "cell_type": "code",
      "source": [
        "#example of for loop control using continue\n",
        "for x in range(10):\n",
        "  if x==5:\n",
        "    continue\n",
        "  print(x)"
      ],
      "metadata": {
        "colab": {
          "base_uri": "https://localhost:8080/"
        },
        "id": "j_Qy1IFCXmBw",
        "outputId": "356b7ec1-03bb-4f77-d188-0fd49e51cb41"
      },
      "execution_count": null,
      "outputs": [
        {
          "output_type": "stream",
          "name": "stdout",
          "text": [
            "0\n",
            "1\n",
            "2\n",
            "3\n",
            "4\n",
            "6\n",
            "7\n",
            "8\n",
            "9\n"
          ]
        }
      ]
    },
    {
      "cell_type": "code",
      "source": [
        "#example of for loop control using pass\n",
        "for x in range(10):\n",
        "  if x==5:\n",
        "    pass\n",
        "  print(x)"
      ],
      "metadata": {
        "colab": {
          "base_uri": "https://localhost:8080/"
        },
        "id": "GgWfmGPYXsi_",
        "outputId": "8564cb63-8b11-4674-fcd7-f38f1b9fa328"
      },
      "execution_count": null,
      "outputs": [
        {
          "output_type": "stream",
          "name": "stdout",
          "text": [
            "0\n",
            "1\n",
            "2\n",
            "3\n",
            "4\n",
            "5\n",
            "6\n",
            "7\n",
            "8\n",
            "9\n"
          ]
        }
      ]
    },
    {
      "cell_type": "code",
      "source": [
        "#various string class functions\n",
        "s=\"Hello World\"\n",
        "print(s)\n",
        "\n",
        "print(len(s))\n",
        "\n",
        "l=s.lower() #converts to lowercase()\n",
        "print(l)\n",
        "\n",
        "u=s.upper() #converts to uppercase()\n",
        "print(u)\n",
        "\n",
        "'H'.isupper()\n",
        "\n",
        "a='H'\n",
        "\n",
        "print(a.isupper())\n",
        "print(a.islower())\n",
        "\n",
        "b='h'\n",
        "print(b.isupper())\n",
        "print(b.islower())\n",
        "\n",
        "print(s.count('l'))"
      ],
      "metadata": {
        "colab": {
          "base_uri": "https://localhost:8080/"
        },
        "id": "ojKdwQ-BXwMw",
        "outputId": "9d9b4093-fed7-4956-eb4c-2f91b4b7627b"
      },
      "execution_count": null,
      "outputs": [
        {
          "output_type": "stream",
          "name": "stdout",
          "text": [
            "Hello World\n",
            "11\n",
            "hello world\n",
            "HELLO WORLD\n",
            "True\n",
            "False\n",
            "False\n",
            "True\n",
            "3\n"
          ]
        }
      ]
    },
    {
      "cell_type": "code",
      "source": [
        "#functions in python\n",
        "def add(x,y):\n",
        "  return x+y,x-y\n",
        "\n",
        "def main():\n",
        "  _,a=add(5,6)\n",
        "  print(a)\n",
        "  \n",
        "\n",
        "main()"
      ],
      "metadata": {
        "colab": {
          "base_uri": "https://localhost:8080/"
        },
        "id": "gmAO2PZgYbWu",
        "outputId": "a8412806-1e6e-4815-d4f1-f2ed8bdd4b7f"
      },
      "execution_count": null,
      "outputs": [
        {
          "output_type": "stream",
          "name": "stdout",
          "text": [
            "-1\n"
          ]
        }
      ]
    },
    {
      "cell_type": "code",
      "source": [
        "#range function use cases\n",
        "for x in range(10): #one parameter-terminating condition, starts with 0 till < 10\n",
        "  print(x)"
      ],
      "metadata": {
        "colab": {
          "base_uri": "https://localhost:8080/"
        },
        "id": "JYJEyYdUsiY7",
        "outputId": "66970ab3-528c-47c2-e93a-f628575e0e20"
      },
      "execution_count": null,
      "outputs": [
        {
          "output_type": "stream",
          "name": "stdout",
          "text": [
            "0\n",
            "1\n",
            "2\n",
            "3\n",
            "4\n",
            "5\n",
            "6\n",
            "7\n",
            "8\n",
            "9\n"
          ]
        }
      ]
    },
    {
      "cell_type": "code",
      "source": [
        "#range function use cases\n",
        "for x in range(5,10): #two parameters, starts with 5 till < 10\n",
        "  print(x)"
      ],
      "metadata": {
        "colab": {
          "base_uri": "https://localhost:8080/"
        },
        "id": "8Gygb7T44Rak",
        "outputId": "244c3c9a-4e4b-429c-a7c0-77e927133251"
      },
      "execution_count": null,
      "outputs": [
        {
          "output_type": "stream",
          "name": "stdout",
          "text": [
            "5\n",
            "6\n",
            "7\n",
            "8\n",
            "9\n"
          ]
        }
      ]
    },
    {
      "cell_type": "code",
      "source": [
        "#range function use cases\n",
        "for x in range(1,10,2): #three parameters, starts with 1 till < 10 and skip by 2\n",
        "  print(x)"
      ],
      "metadata": {
        "colab": {
          "base_uri": "https://localhost:8080/"
        },
        "id": "sjsawIJS4Y2D",
        "outputId": "767de61f-2520-4bb2-eb2a-d65c793953d4"
      },
      "execution_count": null,
      "outputs": [
        {
          "output_type": "stream",
          "name": "stdout",
          "text": [
            "1\n",
            "3\n",
            "5\n",
            "7\n",
            "9\n"
          ]
        }
      ]
    },
    {
      "cell_type": "code",
      "source": [
        "#range function use cases\n",
        "for x in range(10,0,-1): #three parameters, starts with 10 till > 0 and skip by -1\n",
        "  print(x)"
      ],
      "metadata": {
        "colab": {
          "base_uri": "https://localhost:8080/"
        },
        "id": "NwDv_O4p4loz",
        "outputId": "81ab7aaf-dceb-42d0-dc81-0bd60aaaee19"
      },
      "execution_count": null,
      "outputs": [
        {
          "output_type": "stream",
          "name": "stdout",
          "text": [
            "10\n",
            "9\n",
            "8\n",
            "7\n",
            "6\n",
            "5\n",
            "4\n",
            "3\n",
            "2\n",
            "1\n"
          ]
        }
      ]
    },
    {
      "cell_type": "code",
      "source": [
        "#string slicing operations\n",
        "s=\"Hello World\"\n",
        "print(s[:]) #print all charaters from start to end\n",
        "print(s[6:]) #print all charaters from 6th index to end\n",
        "print(s[:5]) #print all charaters from start to 5th index\n",
        "print(s[3:8]) #print all charaters from 3rd index to 8th index\n",
        "print(s[::-1]) #print all charaters from end to start\n",
        "print(s[::-2]) #print all charaters from end to start skip by 2\n",
        "print(s[4::-1]) #print all charaters from 4th index to start"
      ],
      "metadata": {
        "colab": {
          "base_uri": "https://localhost:8080/"
        },
        "id": "2sj3IZad4uqq",
        "outputId": "0921d12e-5a66-46b0-cf54-023df4f0278d"
      },
      "execution_count": null,
      "outputs": [
        {
          "output_type": "stream",
          "name": "stdout",
          "text": [
            "Hello World\n",
            "World\n",
            "Hello\n",
            "lo Wo\n",
            "dlroW olleH\n",
            "drWolH\n",
            "olleH\n"
          ]
        }
      ]
    },
    {
      "cell_type": "code",
      "source": [
        "#Operations on lists in python\n",
        "veggies=['Tomatoes','Spinach','Potatoes']\n",
        "print(veggies)\n",
        "print(type(veggies))\n",
        "fruits=['Apple','Pineapple']\n",
        "print(fruits)\n",
        "\n",
        "veggies.insert(0,'Cauliflower')\n",
        "print(veggies)\n",
        "\n",
        "veggies.pop()\n",
        "print(veggies)\n",
        "\n",
        "veggies.reverse()\n",
        "print(veggies)\n",
        "\n",
        "veggies.append('Okra')\n",
        "print(veggies)\n",
        "\n",
        "veggies.sort()\n",
        "print(veggies)\n",
        "\n",
        "veggies=veggies+fruits\n",
        "print(veggies)"
      ],
      "metadata": {
        "colab": {
          "base_uri": "https://localhost:8080/"
        },
        "id": "XvKsKFDn5N5v",
        "outputId": "0f898501-5286-4682-ed13-bdbf625457d9"
      },
      "execution_count": null,
      "outputs": [
        {
          "output_type": "stream",
          "name": "stdout",
          "text": [
            "['Tomatoes', 'Spinach', 'Potatoes']\n",
            "<class 'list'>\n",
            "['Apple', 'Pineapple']\n",
            "['Cauliflower', 'Tomatoes', 'Spinach', 'Potatoes']\n",
            "['Cauliflower', 'Tomatoes', 'Spinach']\n",
            "['Spinach', 'Tomatoes', 'Cauliflower']\n",
            "['Spinach', 'Tomatoes', 'Cauliflower', 'Okra']\n",
            "['Cauliflower', 'Okra', 'Spinach', 'Tomatoes']\n",
            "['Cauliflower', 'Okra', 'Spinach', 'Tomatoes', 'Apple', 'Pineapple']\n"
          ]
        }
      ]
    },
    {
      "cell_type": "code",
      "source": [
        "#operations on tuple in python\n",
        "veggies=('Spinach','Cauliflower','Spinach')\n",
        "print(veggies)\n",
        "print(type(veggies))\n",
        "print(veggies.index('Cauliflower'))\n",
        "\n",
        "#operations on set in python\n",
        "veggies=set(veggies)\n",
        "print(veggies) #duplication not allowed\n",
        "fruits=('Spinach','Okra')\n",
        "fruits=set(fruits)\n",
        "print(fruits)\n",
        "\n",
        "veggies.intersection(fruits)\n",
        "veggies.union(fruits)\n",
        "\n",
        "fruits.difference(veggies)\n",
        "veggies.difference(fruits)"
      ],
      "metadata": {
        "colab": {
          "base_uri": "https://localhost:8080/"
        },
        "id": "37Gx2hiKAakC",
        "outputId": "e30b8158-a4b2-4d1d-9158-2bac8d9be78f"
      },
      "execution_count": null,
      "outputs": [
        {
          "output_type": "stream",
          "name": "stdout",
          "text": [
            "('Spinach', 'Cauliflower', 'Spinach')\n",
            "<class 'tuple'>\n",
            "1\n",
            "{'Spinach', 'Cauliflower'}\n",
            "{'Spinach', 'Okra'}\n"
          ]
        },
        {
          "output_type": "execute_result",
          "data": {
            "text/plain": [
              "{'Cauliflower'}"
            ]
          },
          "metadata": {},
          "execution_count": 79
        }
      ]
    },
    {
      "cell_type": "code",
      "source": [
        "#dictionaries in python\n",
        "days={1:\"Sunday\",2:\"Monday\",3:\"Tuesday\"}\n",
        "print(days)\n",
        "print(type(days))\n",
        "print(days[1])\n",
        "print(days[3])\n",
        "days.get(2)\n",
        "days.items()\n",
        "days.popitem()\n",
        "print(days)"
      ],
      "metadata": {
        "colab": {
          "base_uri": "https://localhost:8080/"
        },
        "id": "58xvPbmKBGDi",
        "outputId": "c2b198e6-36be-43ba-be2c-5031e4e3800a"
      },
      "execution_count": null,
      "outputs": [
        {
          "output_type": "stream",
          "name": "stdout",
          "text": [
            "{1: 'Sunday', 2: 'Monday', 3: 'Tuesday'}\n",
            "<class 'dict'>\n",
            "Sunday\n",
            "Tuesday\n",
            "{1: 'Sunday', 2: 'Monday'}\n"
          ]
        }
      ]
    },
    {
      "cell_type": "code",
      "source": [
        "a=[1,2,3,4]\n",
        "print(type(a))\n",
        "b=(1,2,3,4)\n",
        "print(type(b))\n",
        "c={1:\"Sunday\",2:\"Monday\"}\n",
        "print(type(c))\n",
        "d={1,2,3,4}\n",
        "print(type(d))\n"
      ],
      "metadata": {
        "id": "8Vqa0JslKybE",
        "colab": {
          "base_uri": "https://localhost:8080/"
        },
        "outputId": "b7ea68c5-28e3-47b2-91a3-5ba07306d296"
      },
      "execution_count": null,
      "outputs": [
        {
          "output_type": "stream",
          "name": "stdout",
          "text": [
            "<class 'list'>\n",
            "<class 'tuple'>\n",
            "<class 'dict'>\n",
            "<class 'set'>\n"
          ]
        }
      ]
    },
    {
      "cell_type": "code",
      "source": [
        "a=[] #empty list decalration\n",
        "n=int(input(\"Enter size of List:\"))\n",
        "for i in range(0,n):\n",
        "    x=int(input(\"Enter a number\"))\n",
        "    a.append(x)\n",
        "    a[i]=x\n",
        "    #print(i)\n",
        "print(\"List Elements are:\",a)\n"
      ],
      "metadata": {
        "colab": {
          "base_uri": "https://localhost:8080/"
        },
        "id": "tDl6hYPqrgkN",
        "outputId": "1d8ce5d7-8ad7-44c4-c5f5-52ed60d98d5b"
      },
      "execution_count": null,
      "outputs": [
        {
          "output_type": "stream",
          "name": "stdout",
          "text": [
            "Enter size of List:5\n",
            "Enter a number1\n",
            "Enter a number2\n",
            "Enter a number3\n",
            "Enter a number4\n",
            "Enter a number5\n",
            "List Elements are: [1, 2, 3, 4, 5]\n"
          ]
        }
      ]
    },
    {
      "cell_type": "code",
      "source": [
        "a[2]=9\n",
        "print(a)"
      ],
      "metadata": {
        "colab": {
          "base_uri": "https://localhost:8080/"
        },
        "id": "Awys1tevsSX3",
        "outputId": "3872eace-7489-46ae-cb09-c5edcf352e25"
      },
      "execution_count": null,
      "outputs": [
        {
          "output_type": "stream",
          "name": "stdout",
          "text": [
            "[1, 2, 9, 4, 5]\n"
          ]
        }
      ]
    },
    {
      "cell_type": "code",
      "source": [
        "a.insert(2,18)\n",
        "print(a)"
      ],
      "metadata": {
        "colab": {
          "base_uri": "https://localhost:8080/"
        },
        "id": "hiLpKd7psjab",
        "outputId": "9717780d-5a8d-41ac-87c1-540e02d8b730"
      },
      "execution_count": null,
      "outputs": [
        {
          "output_type": "stream",
          "name": "stdout",
          "text": [
            "[1, 2, 18, 9, 4, 5]\n"
          ]
        }
      ]
    },
    {
      "cell_type": "code",
      "source": [
        "a.extend([20,30])\n",
        "print(a)"
      ],
      "metadata": {
        "colab": {
          "base_uri": "https://localhost:8080/"
        },
        "id": "K6bXuBXXsq5K",
        "outputId": "bd88f27f-52d7-438e-ddd8-d1a59ec95e0f"
      },
      "execution_count": null,
      "outputs": [
        {
          "output_type": "stream",
          "name": "stdout",
          "text": [
            "[1, 2, 18, 9, 4, 5, 20, 30]\n"
          ]
        }
      ]
    },
    {
      "cell_type": "code",
      "source": [
        "del a[2]\n",
        "print(a)\n"
      ],
      "metadata": {
        "colab": {
          "base_uri": "https://localhost:8080/"
        },
        "id": "6F1xiFjus1h6",
        "outputId": "e07a11b7-75f5-4bf6-866b-1f53cf797e4b"
      },
      "execution_count": null,
      "outputs": [
        {
          "output_type": "stream",
          "name": "stdout",
          "text": [
            "[1, 2, 9, 4, 5, 20, 30]\n"
          ]
        }
      ]
    },
    {
      "cell_type": "code",
      "source": [
        "del a[1:3]\n",
        "print(a)"
      ],
      "metadata": {
        "colab": {
          "base_uri": "https://localhost:8080/"
        },
        "id": "WE_9VR6EtA6L",
        "outputId": "ae013504-4e89-4231-9093-37e911588661"
      },
      "execution_count": null,
      "outputs": [
        {
          "output_type": "stream",
          "name": "stdout",
          "text": [
            "[1, 4, 5, 20, 30]\n"
          ]
        }
      ]
    },
    {
      "cell_type": "code",
      "source": [
        "a.remove(1)\n",
        "print(a)"
      ],
      "metadata": {
        "colab": {
          "base_uri": "https://localhost:8080/"
        },
        "id": "5we-jEtftNvK",
        "outputId": "7a608e1a-f9a1-441f-a52b-3d085adf9081"
      },
      "execution_count": null,
      "outputs": [
        {
          "output_type": "stream",
          "name": "stdout",
          "text": [
            "[4, 5, 20, 30]\n"
          ]
        }
      ]
    },
    {
      "cell_type": "code",
      "source": [
        "a.pop()\n",
        "print(a)"
      ],
      "metadata": {
        "colab": {
          "base_uri": "https://localhost:8080/"
        },
        "id": "JghyHNZPtxVK",
        "outputId": "41f5470e-cdb3-4d7f-8d34-f7b3c286c2ad"
      },
      "execution_count": null,
      "outputs": [
        {
          "output_type": "stream",
          "name": "stdout",
          "text": [
            "[4, 5, 20]\n"
          ]
        }
      ]
    },
    {
      "cell_type": "code",
      "source": [
        "print(b)\n",
        "del b[2]\n",
        "print(b)"
      ],
      "metadata": {
        "colab": {
          "base_uri": "https://localhost:8080/",
          "height": 217
        },
        "id": "MG1DC_Rit0eZ",
        "outputId": "66abed82-a223-4e2f-fff4-12f66401a960"
      },
      "execution_count": null,
      "outputs": [
        {
          "output_type": "stream",
          "name": "stdout",
          "text": [
            "(1, 2, 3, 4)\n"
          ]
        },
        {
          "output_type": "error",
          "ename": "TypeError",
          "evalue": "ignored",
          "traceback": [
            "\u001b[0;31m---------------------------------------------------------------------------\u001b[0m",
            "\u001b[0;31mTypeError\u001b[0m                                 Traceback (most recent call last)",
            "\u001b[0;32m<ipython-input-15-47c8dbc7b928>\u001b[0m in \u001b[0;36m<module>\u001b[0;34m\u001b[0m\n\u001b[1;32m      1\u001b[0m \u001b[0mprint\u001b[0m\u001b[0;34m(\u001b[0m\u001b[0mb\u001b[0m\u001b[0;34m)\u001b[0m\u001b[0;34m\u001b[0m\u001b[0;34m\u001b[0m\u001b[0m\n\u001b[0;32m----> 2\u001b[0;31m \u001b[0;32mdel\u001b[0m \u001b[0mb\u001b[0m\u001b[0;34m[\u001b[0m\u001b[0;36m2\u001b[0m\u001b[0;34m]\u001b[0m\u001b[0;34m\u001b[0m\u001b[0;34m\u001b[0m\u001b[0m\n\u001b[0m\u001b[1;32m      3\u001b[0m \u001b[0mprint\u001b[0m\u001b[0;34m(\u001b[0m\u001b[0mb\u001b[0m\u001b[0;34m)\u001b[0m\u001b[0;34m\u001b[0m\u001b[0;34m\u001b[0m\u001b[0m\n",
            "\u001b[0;31mTypeError\u001b[0m: 'tuple' object doesn't support item deletion"
          ]
        }
      ]
    },
    {
      "cell_type": "code",
      "source": [
        "print(max(b))\n",
        "print(min(b))\n",
        "print(sum(b))"
      ],
      "metadata": {
        "colab": {
          "base_uri": "https://localhost:8080/"
        },
        "id": "nYEvOU6vuqXI",
        "outputId": "11a9f871-38ae-4fd2-8907-40db540f19b9"
      },
      "execution_count": null,
      "outputs": [
        {
          "output_type": "stream",
          "name": "stdout",
          "text": [
            "4\n",
            "1\n",
            "10\n"
          ]
        }
      ]
    },
    {
      "cell_type": "code",
      "source": [],
      "metadata": {
        "id": "l51CEDyiu2I3"
      },
      "execution_count": null,
      "outputs": []
    }
  ]
}